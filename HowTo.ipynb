{
 "cells": [
  {
   "cell_type": "code",
   "execution_count": 1,
   "metadata": {},
   "outputs": [
    {
     "data": {
      "text/html": [
       "<style>.container { width:99% !important; }</style>\n"
      ],
      "text/plain": [
       "<IPython.core.display.HTML object>"
      ]
     },
     "metadata": {},
     "output_type": "display_data"
    }
   ],
   "source": [
    "%%HTML\n",
    "<style>.container { width:99% !important; }</style>"
   ]
  },
  {
   "cell_type": "code",
   "execution_count": 2,
   "metadata": {},
   "outputs": [],
   "source": [
    "%load_ext autoreload\n",
    "%autoreload 2\n",
    "%matplotlib  inline"
   ]
  },
  {
   "cell_type": "code",
   "execution_count": 3,
   "metadata": {},
   "outputs": [
    {
     "data": {
      "text/html": [
       "<style>.container { width:95% !important; }</style>"
      ],
      "text/plain": [
       "<IPython.core.display.HTML object>"
      ]
     },
     "metadata": {},
     "output_type": "display_data"
    },
    {
     "name": "stdout",
     "output_type": "stream",
     "text": [
      "/home/sthalabard/anaconda3/bin/python\n"
     ]
    }
   ],
   "source": [
    "#%% Startup File\n",
    "startup_file='init_python.py'\n",
    "exec(open(startup_file).read())"
   ]
  },
  {
   "cell_type": "markdown",
   "metadata": {},
   "source": [
    "# Shell models for Explosive Kelvin-Hemholtz -- How To"
   ]
  },
  {
   "cell_type": "markdown",
   "metadata": {},
   "source": [
    "## Step 0 : Compilation of the boosted Fortran version and Library importation\n",
    "It requires f2py:\n",
    "\n",
    "https://docs.scipy.org/doc/numpy/f2py/\n",
    "\n",
    "Warnings appear but they are harmless"
   ]
  },
  {
   "cell_type": "code",
   "execution_count": 5,
   "metadata": {},
   "outputs": [
    {
     "name": "stdout",
     "output_type": "stream",
     "text": [
      "bla4.npz\n",
      "Brenier1D_MC.ipynb\n",
      "CreateProfile_README.ipynb\n",
      "Dev\n",
      "im-1.mp4\n",
      "init_python.py\n",
      "Kraichnan1d.pdf\n",
      "Kraichnan_bis.py\n",
      "KraichnanModel_1D.ipynb\n",
      "Lecture1_GaussianProcesses_Cholesky.ipynb\n",
      "Leith_4thOrder-Copy1.ipynb\n",
      "Leith_4thOrder.ipynb\n",
      "Leith_4thOrder-Toy.ipynb\n",
      "Leith_xstar.ipynb\n",
      "Lib_Brenier\n",
      "Lib_Burgers\n",
      "Lib_Kraichnan\n",
      "Lib_Leith\n",
      "Lib_Lorenz\n",
      "Lib_PointSource\n",
      "Lib_Richardson\n",
      "Lib_Shells\n",
      "Lorenz_attractor.ipynb\n",
      "noisylorenz.png\n",
      "OLDScripts\n",
      "PointSource_3D.ipynb\n",
      "PointSource_Illustration.ipynb\n",
      "Prepare_Snapshots.py\n",
      "Richardson_2DData.ipynb\n",
      "Shells_ExplosiveKH_2D.ipynb\n",
      "Shells_ExplosiveKH_HowTo.ipynb\n",
      "Shells_ExplosiveKH_LinearTheory.ipynb\n",
      "Shells_HowTo-4Berengere.ipynb\n",
      "Template.ipynb\n",
      "Data_2D\n",
      "draft.py\n",
      "Figs\n",
      "__init__.py\n",
      "old\n",
      "__pycache__\n",
      "Shell4KH_boost.cpython-37m-x86_64-linux-gnu.so\n",
      "Shell4KH_boost.f90\n",
      "Shell4KH_pairs.py\n",
      "Shell4KH.py\n"
     ]
    },
    {
     "name": "stderr",
     "output_type": "stream",
     "text": [
      "In file included from /home/sthalabard/anaconda3/lib/python3.7/site-packages/numpy/core/include/numpy/ndarraytypes.h:1822:0,\n",
      "                 from /home/sthalabard/anaconda3/lib/python3.7/site-packages/numpy/core/include/numpy/ndarrayobject.h:12,\n",
      "                 from /home/sthalabard/anaconda3/lib/python3.7/site-packages/numpy/core/include/numpy/arrayobject.h:4,\n",
      "                 from /tmp/tmpq52157hr/src.linux-x86_64-3.7/fortranobject.h:13,\n",
      "                 from /tmp/tmpq52157hr/src.linux-x86_64-3.7/fortranobject.c:2:\n",
      "/home/sthalabard/anaconda3/lib/python3.7/site-packages/numpy/core/include/numpy/npy_1_7_deprecated_api.h:17:2: warning: #warning \"Using deprecated NumPy API, disable it with \" \"#define NPY_NO_DEPRECATED_API NPY_1_7_API_VERSION\" [-Wcpp]\n",
      " #warning \"Using deprecated NumPy API, disable it with \" \\\n",
      "  ^~~~~~~\n",
      "In file included from /home/sthalabard/anaconda3/lib/python3.7/site-packages/numpy/core/include/numpy/ndarraytypes.h:1822:0,\n",
      "                 from /home/sthalabard/anaconda3/lib/python3.7/site-packages/numpy/core/include/numpy/ndarrayobject.h:12,\n",
      "                 from /home/sthalabard/anaconda3/lib/python3.7/site-packages/numpy/core/include/numpy/arrayobject.h:4,\n",
      "                 from /tmp/tmpq52157hr/src.linux-x86_64-3.7/fortranobject.h:13,\n",
      "                 from /tmp/tmpq52157hr/src.linux-x86_64-3.7/Shell4KH_boostmodule.c:16:\n",
      "/home/sthalabard/anaconda3/lib/python3.7/site-packages/numpy/core/include/numpy/npy_1_7_deprecated_api.h:17:2: warning: #warning \"Using deprecated NumPy API, disable it with \" \"#define NPY_NO_DEPRECATED_API NPY_1_7_API_VERSION\" [-Wcpp]\n",
      " #warning \"Using deprecated NumPy API, disable it with \" \\\n",
      "  ^~~~~~~\n",
      "/tmp/tmpq52157hr/src.linux-x86_64-3.7/Shell4KH_boostmodule.c:109:12: warning: ‘f2py_size’ defined but not used [-Wunused-function]\n",
      " static int f2py_size(PyArrayObject* var, ...)\n",
      "            ^~~~~~~~~\n"
     ]
    }
   ],
   "source": [
    "%%bash\n",
    "ls\n",
    "cd Lib_Shells\n",
    "ls\n",
    "f2py -c -m Shell4KH_boost Shell4KH_boost.f90 --fcompiler=gnu95 --quiet --f90flags=-O3"
   ]
  },
  {
   "cell_type": "code",
   "execution_count": 7,
   "metadata": {},
   "outputs": [],
   "source": [
    "from Lib_Shells import Shell4KH_pairs  as shell\n",
    "\n",
    "FigFolder='./Lib_Shells/Figs'\n",
    "DataFolder='./Lib_Shells'\n",
    "if not os.path.exists(FigFolder):os.mkdir(FigFolder)"
   ]
  },
  {
   "cell_type": "markdown",
   "metadata": {},
   "source": [
    "## Step 1: Creation of a 'flow' instance\n",
    "The Defining parameters are :\n",
    "\n",
    "$d$: dimension (d=3 or d=2), that fixes the invariants\n",
    "\n",
    "$lambda$: InterShell Ratio\n",
    "\n",
    "$n_{min}$,$n_{max}$ : determines the wave numbers $\\Lambda[l]=\\lambda_k=\\lambda^{k}$ with $k:=k_l = (l+n_{min})$  for $l \\in [0,n_{max}-n_{min}]$\n",
    "\n",
    "$\\nu$, $k_{diss}$, $hyper$ : determines the dissipation operator:\n",
    "$D[u]=-\\nu \\sum_k\\lambda^{2(k-kdiss)hyper} u_k$\n",
    "\n",
    "$dt$ = Time Steps for Runge Kutta\n",
    "\n",
    "#### Keys\n",
    "flow.u : Complex velocity fields \n",
    "flow.v "
   ]
  },
  {
   "cell_type": "code",
   "execution_count": 6,
   "metadata": {},
   "outputs": [
    {
     "name": "stdout",
     "output_type": "stream",
     "text": [
      "CPU times: user 323 ms, sys: 5.08 ms, total: 328 ms\n",
      "Wall time: 327 ms\n",
      "0 0.0 0.0\n",
      "4.000199999999593 0.0 0.0\n",
      "CPU times: user 2.85 s, sys: 155 ms, total: 3.01 s\n",
      "Wall time: 2.84 s\n"
     ]
    }
   ],
   "source": [
    "# Creation d'un flow and time evaluation\n",
    "# boosted f2py is... 10 times faster!\n",
    "param={'d':2,\\\n",
    "       'Lambda':2**(1./3),\\\n",
    "       'nu':2e-5,\\\n",
    "       'hyper':1,\\\n",
    "       'nmin':-33,\\\n",
    "       'nmax':41,\\\n",
    "       'dt':2e-4,\\\n",
    "      }\n",
    "\n",
    "flow=shell.GOY(**param)\n",
    "\n",
    "# Creation of a ``KH'' initial state (see below)\n",
    "flow.init_KH(theta=pi/4,a=0.5) #Theta is the phase\n",
    "flow.t=0\n",
    "%time flow.integrate_until_boost(tol=10000,Tmax=4);\n",
    "\n",
    "flow.init_KH(theta=pi/4,a=0.5)\n",
    "flow.t=0\n",
    "%time flow.integrate_until(tol=10000,Tmax=4);\n",
    "\n"
   ]
  },
  {
   "cell_type": "markdown",
   "metadata": {},
   "source": [
    "## Step 2: Example. Time evolution of a GOY dynamics with KH initial state"
   ]
  },
  {
   "cell_type": "code",
   "execution_count": 8,
   "metadata": {},
   "outputs": [
    {
     "data": {
      "image/png": "[encoded data removed]",
      "text/plain": [
       "<Figure size 1008x252 with 1 Axes>"
      ]
     },
     "metadata": {},
     "output_type": "display_data"
    }
   ],
   "source": [
    "fig,axs=newfig(1,1,figheight=14,aspectratio=0.25,num='Sketch')\n",
    "ax=axs\n",
    "for spine in ax.spines.values():spine.set_edgecolor('white')\n",
    "\n",
    "x=np.array([0,1,2,3,4,5,6,7,8,9])\n",
    "ax.plot(x,0*x,'k-',linewidth=2)\n",
    "\n",
    "x=np.array([9,10])\n",
    "ax.plot(x,0*x,'k--',linewidth=2)\n",
    "\n",
    "x=np.array([-1,0])\n",
    "ax.plot(x,0*x,'k--',linewidth=2)\n",
    "\n",
    "x=np.array([0,3,6,9])\n",
    "ax.plot(x,0*x,'ro',linewidth=2,markeredgecolor='w',markersize=25,label='Ground state')\n",
    "\n",
    "x=np.array([1,2,4,5,7,8])\n",
    "ax.plot(x,0*x,'bo',linewidth=2,markeredgecolor='k',markersize=10,label='Stochastic perturbation')\n",
    "\n",
    "\n",
    "for i in [1,2,4,5,7,8]:\n",
    "    ax.annotate( '',xy=(i-0.2,-0.02), xytext=(i-0.2,0.02) ,\n",
    "            arrowprops=dict(arrowstyle=\"<->\",linewidth=2, mutation_scale=20,color='b'),\\\n",
    "            color='b',annotation_clip=False)\n",
    "for i in [0,3,6,9]:\n",
    "    ax.annotate( '$%d$' %(i,), xy=(i,-0.04) ,\n",
    "            color='r',annotation_clip=False)\n",
    "\n",
    "ax.annotate( 'shell number', xy=(10,-0.04) ,\n",
    "            color='k',annotation_clip=False)\n",
    "\n",
    "\n",
    "ax.legend(ncol=2,loc=3)\n",
    "    \n",
    "ax.set_title('Initial state ')\n",
    "ax.set_xlim(-0.5,10)\n",
    "ax.set_ylim(-0.1,0.1)\n",
    "ax.set_yticks([])\n",
    "ax.set_xticks([])\n",
    "\n",
    "fig.tight_layout()\n",
    "fig.savefig(os.path.join(FigFolder,'Shell_SketchInitial.pdf'))"
   ]
  },
  {
   "cell_type": "code",
   "execution_count": 12,
   "metadata": {},
   "outputs": [],
   "source": [
    "## A function that shows the spectra\n",
    "def show(flow=None,axs=None,a=0.66,**kwargs):\n",
    " \n",
    "    Ek_u=np.abs(flow.u)**2\n",
    "    Ek_v=np.abs(flow.v)**2\n",
    "    Ek_pert=0.5*np.abs(flow.v-flow.u)**2\n",
    "\n",
    "    Epar=Ek_u[flow.k%3==1]+Ek_u[flow.k%3==2]\n",
    "    Eg=(Ek_u[:-2:3]+Ek_u[1:-1:3]+Ek_u[2::3])\n",
    "#    Eg=Ek_u[flow.k%3==0]\n",
    "\n",
    "    #    Ep=Ek_pert\n",
    "    Ep=(Ek_pert[:-2:3]+Ek_pert[1:-1:3]+Ek_pert[2::3])\n",
    "    \n",
    "    ix=flow.k%3==0\n",
    "\n",
    "    lams=flow.Lambdas\n",
    "    ax=axs[0]\n",
    "    ax.plot(lams[ix],lams[ix]**(a)*Eg,'k--')\n",
    "#    ax.plot(lams[ix],lams[ix]**(a)*Ep,'-',**kwargs)\n",
    "\n",
    "    ax=axs[1]\n",
    "    ax.plot(lams[ix],lams[ix]**(a)*Ep,'-',**kwargs)\n",
    "\n",
    "    ax=axs[2]\n",
    "    ax.plot(flow.t,Ep.sum(),'o',markersize=20,**kwargs)\n",
    "\n",
    "    return None"
   ]
  },
  {
   "cell_type": "code",
   "execution_count": null,
   "metadata": {},
   "outputs": [
    {
     "name": "stdout",
     "output_type": "stream",
     "text": [
      "39 39\n",
      "CPU times: user 802 µs, sys: 174 µs, total: 976 µs\n",
      "Wall time: 918 µs\n",
      "39 39\n",
      "CPU times: user 905 µs, sys: 0 ns, total: 905 µs\n",
      "Wall time: 848 µs\n",
      "78 78\n",
      "CPU times: user 2.08 ms, sys: 0 ns, total: 2.08 ms\n",
      "Wall time: 1.82 ms\n",
      "156 156\n",
      "CPU times: user 3.06 ms, sys: 0 ns, total: 3.06 ms\n",
      "Wall time: 3.01 ms\n",
      "312 312\n",
      "CPU times: user 7.55 ms, sys: 0 ns, total: 7.55 ms\n",
      "Wall time: 7.47 ms\n",
      "625 625\n",
      "CPU times: user 11.9 ms, sys: 0 ns, total: 11.9 ms\n",
      "Wall time: 11.8 ms\n",
      "1250 1250\n",
      "CPU times: user 23.9 ms, sys: 0 ns, total: 23.9 ms\n",
      "Wall time: 23.8 ms\n",
      "2500 2500\n",
      "CPU times: user 41.5 ms, sys: 0 ns, total: 41.5 ms\n",
      "Wall time: 41.5 ms\n"
     ]
    }
   ],
   "source": [
    "## Creation of a flow\n",
    "param={'d':2,\\\n",
    "       'Lambda':2**(1./3),\\\n",
    "       'nu':2e-5,\\\n",
    "       'hyper':1,\\\n",
    "       'nmin':-33,\\\n",
    "       'nmax':41,\\\n",
    "       'dt':2e-4,\\\n",
    "      }\n",
    "\n",
    "flow=shell.GOY(**param)\n",
    "\n",
    "# Initialization\n",
    "flow.init_KH(theta=pi/4,a=0.5) #Theta is the phase\n",
    "flow.perturb(kappa=1e-17,a=2) \n",
    "flow.regularize(kmax=36,tol=1e-30)\n",
    "tstar=flow.t\n",
    "flow.t=0\n",
    "\n",
    "fig,axs=newfig(1,3,num='init')\n",
    "Tmaxs=2**(1.*np.arange(-7,6))\n",
    "NTmaxs=len(Tmaxs)\n",
    "colors=cm.rainbow(np.linspace(0,1,NTmaxs))\n",
    "\n",
    "#Evolution\n",
    "for i in range(NTmaxs):\n",
    "    Tmax=Tmaxs[i]\n",
    "    %time flow.integrate_until_boost(tol=10000,Tmax=Tmax,verbose=True);\n",
    "    show(flow,axs=axs,color=colors[i],a=0)\n",
    "\n",
    "\n",
    "for i in [0,1]:\n",
    "    ax=axs[i]\n",
    "    ax.set_xscale('log')\n",
    "    ax.set_yscale('log')\n",
    "    ax.axvline(flow.Lambdas[-1],color='k',linestyle='dashed')\n",
    "    ax.axvline(flow.Lambdas[0],color='k',linestyle='dashed')\n",
    "    ax.set_xlim(1e-4,1e5)\n",
    "    ax.set_ylim(1e-6,1e4)\n",
    "    ax.set_xlabel('$k$')\n",
    "    if i==0:\n",
    "        ax.set_ylabel('$E_k \\;\\; k=0[3]$')\n",
    "    if i==1:\n",
    "        ax.set_ylabel('$E_k  \\;\\;k=1,2[3]$')\n",
    "    \n",
    "ax=axs[2]\n",
    "ax.set_xscale('log')\n",
    "ax.set_yscale('log')\n",
    "ax.set_xlim(1e-2,1e2)\n",
    "ax.set_xlabel('time')\n",
    "ax.set_ylabel('$E_{pert}$')\n",
    "\n",
    "fig.tight_layout()\n"
   ]
  }
 ],
 "metadata": {
  "kernelspec": {
   "display_name": "Python 3",
   "language": "python",
   "name": "python3"
  },
  "language_info": {
   "codemirror_mode": {
    "name": "ipython",
    "version": 3
   },
   "file_extension": ".py",
   "mimetype": "text/x-python",
   "name": "python",
   "nbconvert_exporter": "python",
   "pygments_lexer": "ipython3",
   "version": "3.7.3"
  },
  "widgets": {
   "application/vnd.jupyter.widget-state+json": {
    "state": {},
    "version_major": 2,
    "version_minor": 0
   }
  }
 },
 "nbformat": 4,
 "nbformat_minor": 4
}
